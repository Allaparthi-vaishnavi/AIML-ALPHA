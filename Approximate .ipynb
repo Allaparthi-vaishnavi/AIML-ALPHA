{
 "cells": [
  {
   "cell_type": "code",
   "execution_count": 1,
   "id": "08d38541",
   "metadata": {},
   "outputs": [
    {
     "name": "stdout",
     "output_type": "stream",
     "text": [
      "[5, 7, 9]\n"
     ]
    }
   ],
   "source": [
    "def approximate_f(x_list):\n",
    "    return [2 * x + 3 for x in x_list]\n",
    "input_list = [1, 2, 3]\n",
    "approx_result = approximate_f(input_list)\n",
    "print(approx_result)"
   ]
  },
  {
   "cell_type": "code",
   "execution_count": null,
   "id": "902c9670",
   "metadata": {},
   "outputs": [],
   "source": []
  }
 ],
 "metadata": {
  "kernelspec": {
   "display_name": "Python 3 (ipykernel)",
   "language": "python",
   "name": "python3"
  },
  "language_info": {
   "codemirror_mode": {
    "name": "ipython",
    "version": 3
   },
   "file_extension": ".py",
   "mimetype": "text/x-python",
   "name": "python",
   "nbconvert_exporter": "python",
   "pygments_lexer": "ipython3",
   "version": "3.11.5"
  }
 },
 "nbformat": 4,
 "nbformat_minor": 5
}

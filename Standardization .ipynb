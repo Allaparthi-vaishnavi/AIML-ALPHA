{
 "cells": [
  {
   "cell_type": "code",
   "execution_count": 1,
   "id": "72f1abf0",
   "metadata": {},
   "outputs": [
    {
     "name": "stdout",
     "output_type": "stream",
     "text": [
      "[-1.3416407864998738, -0.4472135954999579, 0.4472135954999579, 1.3416407864998738]\n"
     ]
    }
   ],
   "source": [
    "import math\n",
    "def standardize(lst):\n",
    "    mean = sum(lst) / len(lst)\n",
    "    variance = sum((x - mean) ** 2 for x in lst) / len(lst)\n",
    "    std_deviation = math.sqrt(variance)\n",
    "    standardized_lst = [(x - mean) / std_deviation for x in lst]\n",
    "    return standardized_lst\n",
    "input_list = [10, 20, 30, 40]\n",
    "standardized_result = standardize(input_list)\n",
    "print(standardized_result)"
   ]
  },
  {
   "cell_type": "code",
   "execution_count": null,
   "id": "3d7986cd",
   "metadata": {},
   "outputs": [],
   "source": []
  }
 ],
 "metadata": {
  "kernelspec": {
   "display_name": "Python 3 (ipykernel)",
   "language": "python",
   "name": "python3"
  },
  "language_info": {
   "codemirror_mode": {
    "name": "ipython",
    "version": 3
   },
   "file_extension": ".py",
   "mimetype": "text/x-python",
   "name": "python",
   "nbconvert_exporter": "python",
   "pygments_lexer": "ipython3",
   "version": "3.11.5"
  }
 },
 "nbformat": 4,
 "nbformat_minor": 5
}

{
 "cells": [
  {
   "cell_type": "code",
   "execution_count": 1,
   "id": "285187ee",
   "metadata": {},
   "outputs": [
    {
     "name": "stdout",
     "output_type": "stream",
     "text": [
      "List Elements:\n",
      "First Item: 5\n",
      "Third Item: 15\n",
      "Second Last Item: 20\n",
      "\n",
      "Tuple Elements:\n",
      "Second Item: banana\n",
      "Fourth Item: date\n",
      "Last Item: elderberry\n",
      "\n",
      "Dictionary Elements:\n",
      "Name: Alice\n",
      "City: Paris\n",
      "Hobby: Photography\n"
     ]
    }
   ],
   "source": [
    "my_list = [5, 10, 15, 20, 25]\n",
    "first_item = my_list[0]         \n",
    "third_item = my_list[2]         \n",
    "second_last_item = my_list[-2]  \n",
    "print(\"List Elements:\")\n",
    "print(\"First Item:\", first_item)\n",
    "print(\"Third Item:\", third_item)\n",
    "print(\"Second Last Item:\", second_last_item)\n",
    "my_tuple = (\"apple\", \"banana\", \"cherry\", \"date\", \"elderberry\")\n",
    "second_item_tuple = my_tuple[1]       \n",
    "fourth_item_tuple = my_tuple[3]      \n",
    "last_item_tuple = my_tuple[-1]       \n",
    "print(\"\\nTuple Elements:\")\n",
    "print(\"Second Item:\", second_item_tuple)\n",
    "print(\"Fourth Item:\", fourth_item_tuple)\n",
    "print(\"Last Item:\", last_item_tuple)\n",
    "my_dict = {\n",
    "    \"name\": \"Alice\",\n",
    "    \"age\": 30,\n",
    "    \"city\": \"Paris\",\n",
    "    \"job\": \"Designer\",\n",
    "    \"hobby\": \"Photography\"\n",
    "}\n",
    "name_value = my_dict[\"name\"]  \n",
    "city_value = my_dict[\"city\"] \n",
    "hobby_value = my_dict[\"hobby\"] \n",
    "print(\"\\nDictionary Elements:\")\n",
    "print(\"Name:\", name_value)\n",
    "print(\"City:\", city_value)\n",
    "print(\"Hobby:\", hobby_value)\n"
   ]
  },
  {
   "cell_type": "code",
   "execution_count": null,
   "id": "221e0d01",
   "metadata": {},
   "outputs": [],
   "source": []
  }
 ],
 "metadata": {
  "kernelspec": {
   "display_name": "Python 3 (ipykernel)",
   "language": "python",
   "name": "python3"
  },
  "language_info": {
   "codemirror_mode": {
    "name": "ipython",
    "version": 3
   },
   "file_extension": ".py",
   "mimetype": "text/x-python",
   "name": "python",
   "nbconvert_exporter": "python",
   "pygments_lexer": "ipython3",
   "version": "3.11.5"
  }
 },
 "nbformat": 4,
 "nbformat_minor": 5
}

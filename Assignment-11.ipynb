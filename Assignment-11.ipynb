{
 "cells": [
  {
   "cell_type": "code",
   "execution_count": 3,
   "id": "7b400a69",
   "metadata": {},
   "outputs": [
    {
     "name": "stdout",
     "output_type": "stream",
     "text": [
      "   Account_Balance  Transaction_Amount Branch\n",
      "8            20000                 450      C\n",
      "1            15000                 500      A\n",
      "4            12000                 250      A\n",
      "2            10000                 300      B\n",
      "7             9500                 100      B\n",
      "5             8000                 600      C\n",
      "3             7500                 400      B\n",
      "0             5000                 200      A\n",
      "9             4000                  50      A\n",
      "6             3000                 150      C\n"
     ]
    }
   ],
   "source": [
    "import pandas as pd\n",
    "\n",
    "# Sample DataFrame\n",
    "data = {\n",
    "    \"Account_Balance\": [5000, 15000, 10000, 7500, 12000, 8000, 3000, 9500, 20000, 4000],\n",
    "    \"Transaction_Amount\": [200, 500, 300, 400, 250, 600, 150, 100, 450, 50],\n",
    "    \"Branch\": [\"A\", \"A\", \"B\", \"B\", \"A\", \"C\", \"C\", \"B\", \"C\", \"A\"]\n",
    "}\n",
    "\n",
    "df = pd.DataFrame(data)\n",
    "\n",
    "# Sort by Account_Balance in descending order and display top 10 rows\n",
    "sorted_df = df.sort_values(by=\"Account_Balance\", ascending=False)\n",
    "print(sorted_df.head(10))\n"
   ]
  },
  {
   "cell_type": "code",
   "execution_count": 4,
   "id": "dc7c330f",
   "metadata": {},
   "outputs": [
    {
     "name": "stdout",
     "output_type": "stream",
     "text": [
      "   Account_Balance  Transaction_Amount Branch  Rank\n",
      "0             5000                 200      A   3.0\n",
      "1            15000                 500      A   1.0\n",
      "2            10000                 300      B   2.0\n",
      "3             7500                 400      B   1.0\n",
      "4            12000                 250      A   2.0\n",
      "5             8000                 600      C   1.0\n",
      "6             3000                 150      C   3.0\n",
      "7             9500                 100      B   3.0\n",
      "8            20000                 450      C   2.0\n",
      "9             4000                  50      A   4.0\n"
     ]
    }
   ],
   "source": [
    "df[\"Rank\"] = df.groupby(\"Branch\")[\"Transaction_Amount\"].rank(method=\"dense\", ascending=False)\n",
    "print(df)\n"
   ]
  },
  {
   "cell_type": "code",
   "execution_count": null,
   "id": "ec43b497",
   "metadata": {},
   "outputs": [],
   "source": []
  }
 ],
 "metadata": {
  "kernelspec": {
   "display_name": "Python 3 (ipykernel)",
   "language": "python",
   "name": "python3"
  },
  "language_info": {
   "codemirror_mode": {
    "name": "ipython",
    "version": 3
   },
   "file_extension": ".py",
   "mimetype": "text/x-python",
   "name": "python",
   "nbconvert_exporter": "python",
   "pygments_lexer": "ipython3",
   "version": "3.11.5"
  }
 },
 "nbformat": 4,
 "nbformat_minor": 5
}

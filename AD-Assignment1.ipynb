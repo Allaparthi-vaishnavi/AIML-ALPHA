{
 "cells": [
  {
   "cell_type": "code",
   "execution_count": 1,
   "id": "b6a86acc",
   "metadata": {},
   "outputs": [
    {
     "name": "stdout",
     "output_type": "stream",
     "text": [
      "Integer Variable: 42 Type: <class 'int'>\n",
      "Float Variable: 3.14159 Type: <class 'float'>\n",
      "String Variable: Hello, Jupyter! Type: <class 'str'>\n",
      "Boolean Variable: True Type: <class 'bool'>\n"
     ]
    }
   ],
   "source": [
    "##DAY-1:\n",
    "\n",
    "# Declare variables of different data types\n",
    "integer_variable = 42\n",
    "float_variable = 3.14159\n",
    "string_variable = \"Hello, Jupyter!\"\n",
    "boolean_variable = True\n",
    "print(\"Integer Variable:\", integer_variable, \"Type:\", type(integer_variable))\n",
    "print(\"Float Variable:\", float_variable, \"Type:\", type(float_variable))\n",
    "print(\"String Variable:\", string_variable, \"Type:\", type(string_variable))\n",
    "print(\"Boolean Variable:\", boolean_variable, \"Type:\", type(boolean_variable))\n"
   ]
  },
  {
   "cell_type": "code",
   "execution_count": null,
   "id": "b7ecb485",
   "metadata": {},
   "outputs": [],
   "source": []
  }
 ],
 "metadata": {
  "kernelspec": {
   "display_name": "Python 3 (ipykernel)",
   "language": "python",
   "name": "python3"
  },
  "language_info": {
   "codemirror_mode": {
    "name": "ipython",
    "version": 3
   },
   "file_extension": ".py",
   "mimetype": "text/x-python",
   "name": "python",
   "nbconvert_exporter": "python",
   "pygments_lexer": "ipython3",
   "version": "3.11.5"
  }
 },
 "nbformat": 4,
 "nbformat_minor": 5
}

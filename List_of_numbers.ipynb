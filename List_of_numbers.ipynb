{
 "cells": [
  {
   "cell_type": "code",
   "execution_count": 1,
   "id": "17c86471",
   "metadata": {},
   "outputs": [
    {
     "name": "stdout",
     "output_type": "stream",
     "text": [
      "[10, 10, 30, 30, 50]\n"
     ]
    }
   ],
   "source": [
    "def fill_missing_values(lst):\n",
    "    last_valid_value = None\n",
    "    for i in range(len(lst)):\n",
    "        if lst[i] is not None:\n",
    "            last_valid_value = lst[i]\n",
    "        else:\n",
    "            lst[i] = last_valid_value\n",
    "    return lst\n",
    "\n",
    "input_list = [10, None, 30, None, 50]\n",
    "result = fill_missing_values(input_list)\n",
    "print(result)"
   ]
  },
  {
   "cell_type": "code",
   "execution_count": null,
   "id": "e1ad06a1",
   "metadata": {},
   "outputs": [],
   "source": []
  }
 ],
 "metadata": {
  "kernelspec": {
   "display_name": "Python 3 (ipykernel)",
   "language": "python",
   "name": "python3"
  },
  "language_info": {
   "codemirror_mode": {
    "name": "ipython",
    "version": 3
   },
   "file_extension": ".py",
   "mimetype": "text/x-python",
   "name": "python",
   "nbconvert_exporter": "python",
   "pygments_lexer": "ipython3",
   "version": "3.11.5"
  }
 },
 "nbformat": 4,
 "nbformat_minor": 5
}

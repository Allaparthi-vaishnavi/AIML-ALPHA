{
 "cells": [
  {
   "cell_type": "code",
   "execution_count": 29,
   "id": "aed874aa",
   "metadata": {},
   "outputs": [
    {
     "name": "stdout",
     "output_type": "stream",
     "text": [
      "20\n",
      "[20, 30]\n",
      "[20, 30, 40]\n",
      "[10, 20, 30]\n",
      "[10, 20, 30, 40]\n"
     ]
    }
   ],
   "source": [
    "#Slicing\n",
    "my_list = [10,20,30,40]\n",
    "print(my_list[1])\n",
    "print(my_list[1:3])\n",
    "print(my_list[1:])\n",
    "print(my_list[:3])\n",
    "print(my_list[:])"
   ]
  },
  {
   "cell_type": "code",
   "execution_count": 30,
   "id": "8a324905",
   "metadata": {},
   "outputs": [
    {
     "name": "stdout",
     "output_type": "stream",
     "text": [
      "54\n",
      "60\n",
      "21\n",
      "120\n"
     ]
    }
   ],
   "source": [
    "#accessing directily\n",
    "my_list = [18,20,7,40]\n",
    "for item in my_list:\n",
    "    print(3*item)"
   ]
  },
  {
   "cell_type": "code",
   "execution_count": 31,
   "id": "6e11509d",
   "metadata": {},
   "outputs": [
    {
     "name": "stdout",
     "output_type": "stream",
     "text": [
      "30\n",
      "60\n",
      "90\n",
      "120\n"
     ]
    }
   ],
   "source": [
    "my_list = [10,20,30,40]\n",
    "for x in range(len(my_list)):\n",
    "    print(3*my_list[x])"
   ]
  },
  {
   "cell_type": "code",
   "execution_count": 26,
   "id": "529cb82c",
   "metadata": {},
   "outputs": [
    {
     "data": {
      "text/plain": [
       "['__add__',\n",
       " '__class__',\n",
       " '__class_getitem__',\n",
       " '__contains__',\n",
       " '__delattr__',\n",
       " '__delitem__',\n",
       " '__dir__',\n",
       " '__doc__',\n",
       " '__eq__',\n",
       " '__format__',\n",
       " '__ge__',\n",
       " '__getattribute__',\n",
       " '__getitem__',\n",
       " '__getstate__',\n",
       " '__gt__',\n",
       " '__hash__',\n",
       " '__iadd__',\n",
       " '__imul__',\n",
       " '__init__',\n",
       " '__init_subclass__',\n",
       " '__iter__',\n",
       " '__le__',\n",
       " '__len__',\n",
       " '__lt__',\n",
       " '__mul__',\n",
       " '__ne__',\n",
       " '__new__',\n",
       " '__reduce__',\n",
       " '__reduce_ex__',\n",
       " '__repr__',\n",
       " '__reversed__',\n",
       " '__rmul__',\n",
       " '__setattr__',\n",
       " '__setitem__',\n",
       " '__sizeof__',\n",
       " '__str__',\n",
       " '__subclasshook__',\n",
       " 'append',\n",
       " 'clear',\n",
       " 'copy',\n",
       " 'count',\n",
       " 'extend',\n",
       " 'index',\n",
       " 'insert',\n",
       " 'pop',\n",
       " 'remove',\n",
       " 'reverse',\n",
       " 'sort']"
      ]
     },
     "execution_count": 26,
     "metadata": {},
     "output_type": "execute_result"
    }
   ],
   "source": [
    "dir(list)"
   ]
  },
  {
   "cell_type": "code",
   "execution_count": 25,
   "id": "cdbb6822",
   "metadata": {},
   "outputs": [],
   "source": [
    "orders = [[\"apple\", 10], [\"banana\", 5], [\"cherry\", 7], [\"banana\", 5]]"
   ]
  },
  {
   "cell_type": "code",
   "execution_count": 24,
   "id": "22c8358a",
   "metadata": {},
   "outputs": [
    {
     "data": {
      "text/plain": [
       "[['apple', 10],\n",
       " ['banana', 5],\n",
       " ['dragon', 7],\n",
       " ['dragon', 7],\n",
       " ['cherry', 7],\n",
       " ['grape', 10],\n",
       " ['apple', 20],\n",
       " ['grape', 10],\n",
       " ['apple', 20],\n",
       " ['grape', 18],\n",
       " ['apple', 20],\n",
       " ['grape', 18],\n",
       " ['date', 12]]"
      ]
     },
     "execution_count": 24,
     "metadata": {},
     "output_type": "execute_result"
    }
   ],
   "source": [
    "#adding a new order with append\n",
    "new_order1=[\"date\", 12]\n",
    "orders.append(new_order1)\n",
    "orders"
   ]
  },
  {
   "cell_type": "code",
   "execution_count": null,
   "id": "cea74e93",
   "metadata": {},
   "outputs": [],
   "source": [
    "new_orders = [[\"grape\", 18], [\"apple\", 20]]\n",
    "orders.extend(new_orders)"
   ]
  },
  {
   "cell_type": "code",
   "execution_count": 23,
   "id": "a7f2f5f6",
   "metadata": {},
   "outputs": [
    {
     "data": {
      "text/plain": [
       "[['apple', 10],\n",
       " ['banana', 5],\n",
       " ['dragon', 7],\n",
       " ['dragon', 7],\n",
       " ['cherry', 7],\n",
       " ['grape', 10],\n",
       " ['apple', 20],\n",
       " ['grape', 10],\n",
       " ['apple', 20],\n",
       " ['grape', 18],\n",
       " ['apple', 20],\n",
       " ['grape', 18]]"
      ]
     },
     "execution_count": 23,
     "metadata": {},
     "output_type": "execute_result"
    }
   ],
   "source": [
    "orders"
   ]
  },
  {
   "cell_type": "code",
   "execution_count": 22,
   "id": "ae84e06f",
   "metadata": {},
   "outputs": [
    {
     "data": {
      "text/plain": [
       "[['apple', 10],\n",
       " ['banana', 5],\n",
       " ['dragon', 7],\n",
       " ['dragon', 7],\n",
       " ['cherry', 7],\n",
       " ['grape', 10],\n",
       " ['apple', 20],\n",
       " ['grape', 10],\n",
       " ['apple', 20],\n",
       " ['grape', 18],\n",
       " ['apple', 20],\n",
       " ['grape', 18]]"
      ]
     },
     "execution_count": 22,
     "metadata": {},
     "output_type": "execute_result"
    }
   ],
   "source": [
    "#Add insert an order at an index position\n",
    "new_orders2=[\"dragon\", 7]\n",
    "orders.insert(2, new_orders2)\n",
    "orders"
   ]
  },
  {
   "cell_type": "code",
   "execution_count": 21,
   "id": "a6dd554c",
   "metadata": {},
   "outputs": [
    {
     "data": {
      "text/plain": [
       "['date', 12]"
      ]
     },
     "execution_count": 21,
     "metadata": {},
     "output_type": "execute_result"
    }
   ],
   "source": [
    "orders.pop(4)"
   ]
  },
  {
   "cell_type": "code",
   "execution_count": 28,
   "id": "47b37125",
   "metadata": {
    "scrolled": true
   },
   "outputs": [
    {
     "name": "stdout",
     "output_type": "stream",
     "text": [
      "not found\n",
      "not found\n",
      "found dragon\n",
      "found dragon\n",
      "not found\n",
      "not found\n",
      "not found\n",
      "not found\n",
      "not found\n",
      "not found\n",
      "not found\n",
      "not found\n"
     ]
    }
   ],
   "source": [
    "orders=[['apple', 10],\n",
    " ['banana', 5],\n",
    " ['dragon', 7],\n",
    " ['dragon', 7],\n",
    " ['cherry', 7],\n",
    " ['grape', 10],\n",
    " ['apple', 20],\n",
    " ['grape', 10],\n",
    " ['apple', 20],\n",
    " ['grape', 18],\n",
    " ['apple', 20],\n",
    " ['grape', 18]]\n",
    "\n",
    "for item in orders:\n",
    "    if item[0] == \"dragon\":\n",
    "        print(\"found dragon\")\n",
    "    else: \n",
    "        print(\"not found\")"
   ]
  },
  {
   "cell_type": "code",
   "execution_count": 36,
   "id": "118d0c2e",
   "metadata": {},
   "outputs": [],
   "source": [
    "orders=[['apple', 10],\n",
    "['banana', 5],\n",
    " ['dragon', 7],\n",
    " ['dragon', 7],\n",
    " ['cherry', 7],\n",
    " ['grape', 10],\n",
    " ['apple', 20],\n",
    " ['grape', 10],\n",
    " ['apple', 20],\n",
    " ['grape', 18],\n",
    " ['apple', 20],\n",
    " ['grape', 18]]\n",
    "\n",
    "for item in orders:\n",
    "    if item[0] == \"cherry\":\n",
    "        orders.pop(4)\n",
    "    else:\n",
    "        orders"
   ]
  },
  {
   "cell_type": "code",
   "execution_count": 38,
   "id": "cb79067f",
   "metadata": {},
   "outputs": [],
   "source": [
    "orders=[['apple', 10],\n",
    "['banana', 5],\n",
    " ['dragon', 7],\n",
    " ['dragon', 7],\n",
    " ['cherry', 7],\n",
    " ['grape', 10],\n",
    " ['apple', 20],\n",
    " ['grape', 10],\n",
    " ['apple', 20],\n",
    " ['grape', 18],\n",
    " ['apple', 20],\n",
    " ['grape', 18]]\n",
    "\n",
    "for item in orders:\n",
    "    if item[0] == \"cherry\":\n",
    "        orders.pop(4)\n",
    "        break\n",
    "    else:\n",
    "        orders"
   ]
  },
  {
   "cell_type": "code",
   "execution_count": 39,
   "id": "0c52c49e",
   "metadata": {},
   "outputs": [
    {
     "name": "stdout",
     "output_type": "stream",
     "text": [
      "[['apple', 10], ['banana', 5], ['dragon', 7], ['dragon', 7], ['grape', 10], ['apple', 20], ['grape', 10], ['apple', 20], ['grape', 18], ['apple', 20], ['grape', 18]]\n"
     ]
    }
   ],
   "source": [
    "orders=[['apple', 10],\n",
    "['banana', 5],\n",
    " ['dragon', 7],\n",
    " ['dragon', 7],\n",
    " ['cherry', 7],\n",
    " ['grape', 10],\n",
    " ['apple', 20],\n",
    " ['grape', 10],\n",
    " ['apple', 20],\n",
    " ['grape', 18],\n",
    " ['apple', 20],\n",
    " ['grape', 18]]\n",
    "\n",
    "for item in orders:\n",
    "    if item[0] == \"cherry\":\n",
    "        orders.remove(item)\n",
    "        break\n",
    "print(orders)"
   ]
  },
  {
   "cell_type": "code",
   "execution_count": null,
   "id": "56f75663",
   "metadata": {},
   "outputs": [],
   "source": [
    "orders=[['apple', 10],\n",
    "['banana', 5],\n",
    " ['dragon', 7],\n",
    " ['dragon', 7],\n",
    " ['cherry', 7],\n",
    " ['grape', 10],\n",
    " ['apple', 20],\n",
    " ['grape', 10],\n",
    " ['apple', 20],\n",
    " ['grape', 18],\n",
    " ['apple', 20],\n",
    " ['grape', 18]]\n",
    "\n",
    "for item in orders:\n",
    "    if item[0] == \"apple\":\n",
    "        item[1] = ['apple', 15]\n",
    "        orders.append(item)\n",
    "        break\n",
    "print(orders)\n",
    "\n",
    "total = []\n",
    "for each_item in orders:\n",
    "    if each_item[0] == \"apple\":\n",
    "        total.append(each_item[1])\n",
    "print(total)\n",
    "print(sum(total))"
   ]
  },
  {
   "cell_type": "code",
   "execution_count": 7,
   "id": "4bc2a710",
   "metadata": {},
   "outputs": [
    {
     "name": "stdout",
     "output_type": "stream",
     "text": [
      "[['apple', ['apple', 15]], ['banana', 5], ['dragon', 7], ['dragon', 7], ['cherry', 7], ['grape', 10], ['apple', 20], ['grape', 10], ['apple', 20], ['grape', 18], ['apple', 20], ['grape', 18], ['apple', ['apple', 15]], ['apple', ['apple', 15]], ['apple', ['apple', 15]], ['apple', ['apple', 15]], ['apple', ['apple', 15]]]\n"
     ]
    }
   ],
   "source": [
    "for item in orders:\n",
    "    if item[0] == \"apple\":\n",
    "        item[1] = ['apple', 15]\n",
    "        orders.append(item)\n",
    "        break\n",
    "print(orders)"
   ]
  },
  {
   "cell_type": "code",
   "execution_count": 12,
   "id": "cfb0e6bd",
   "metadata": {},
   "outputs": [
    {
     "name": "stdout",
     "output_type": "stream",
     "text": [
      "[['apple', ['apple', 15]], ['banana', 5], ['dragon', 7], ['dragon', 7], ['cherry', 7], ['grape', 10], ['apple', 20], ['grape', 10], ['apple', 20], ['grape', 18], ['apple', 20], ['grape', 18], ['apple', ['apple', 15]], ['apple', ['apple', 15]], ['apple', ['apple', 15]], ['apple', ['apple', 15]], ['apple', ['apple', 15]], ['apple', 15], ['apple', 15], ['apple', 15]]\n",
      "[['apple', ['apple', 15]], ['apple', 20], ['apple', 20], ['apple', 20], ['apple', ['apple', 15]], ['apple', ['apple', 15]], ['apple', ['apple', 15]], ['apple', ['apple', 15]], ['apple', ['apple', 15]], ['apple', 15], ['apple', 15], ['apple', 15]]\n"
     ]
    },
    {
     "ename": "TypeError",
     "evalue": "unsupported operand type(s) for +: 'int' and 'list'",
     "output_type": "error",
     "traceback": [
      "\u001b[1;31m---------------------------------------------------------------------------\u001b[0m",
      "\u001b[1;31mTypeError\u001b[0m                                 Traceback (most recent call last)",
      "Cell \u001b[1;32mIn[12], line 11\u001b[0m\n\u001b[0;32m      9\u001b[0m         total\u001b[38;5;241m.\u001b[39mappend(each_item)\n\u001b[0;32m     10\u001b[0m \u001b[38;5;28mprint\u001b[39m(total)\n\u001b[1;32m---> 11\u001b[0m \u001b[38;5;28mprint\u001b[39m(\u001b[38;5;28msum\u001b[39m(total))\n",
      "\u001b[1;31mTypeError\u001b[0m: unsupported operand type(s) for +: 'int' and 'list'"
     ]
    }
   ],
   "source": [
    "new_order = [\"apple\", 15]\n",
    "orders.append(new_order)\n",
    "print(orders)\n",
    "\n",
    "total = []\n",
    "\n",
    "for each_item in orders:\n",
    "    if each_item[0] == \"apple\":\n",
    "        total.append(each_item)\n",
    "print(total)\n",
    "print(sum(total))"
   ]
  },
  {
   "cell_type": "code",
   "execution_count": 13,
   "id": "90b51c4c",
   "metadata": {},
   "outputs": [
    {
     "name": "stdout",
     "output_type": "stream",
     "text": [
      "(3, 4, 9, 'A', 5.2)\n",
      "<class 'tuple'>\n",
      "('Hello', 5, 10, 20)\n",
      "<class 'tuple'>\n",
      "(1, 2, 5, 7.5)\n",
      "<class 'tuple'>\n"
     ]
    }
   ],
   "source": [
    "#tuples\n",
    "tup1=(3,4,9,'A',5.2)\n",
    "tup2=\"Hello\",5,10,20\n",
    "tup3=tuple([1,2,5,7.5])\n",
    "\n",
    "print(tup1)\n",
    "print(type(tup1))\n",
    "print(tup2)\n",
    "print(type(tup2))\n",
    "print(tup3)\n",
    "print(type(tup3))"
   ]
  },
  {
   "cell_type": "code",
   "execution_count": 18,
   "id": "fb705313",
   "metadata": {},
   "outputs": [
    {
     "data": {
      "text/plain": [
       "2"
      ]
     },
     "execution_count": 18,
     "metadata": {},
     "output_type": "execute_result"
    }
   ],
   "source": [
    "tup1\n",
    "tup1.index(3)\n",
    "tup2\n",
    "tup2.index(\"Hello\")\n",
    "tup3\n",
    "tup3.index(5)"
   ]
  },
  {
   "cell_type": "code",
   "execution_count": null,
   "id": "30342898",
   "metadata": {},
   "outputs": [],
   "source": []
  }
 ],
 "metadata": {
  "kernelspec": {
   "display_name": "Python 3 (ipykernel)",
   "language": "python",
   "name": "python3"
  },
  "language_info": {
   "codemirror_mode": {
    "name": "ipython",
    "version": 3
   },
   "file_extension": ".py",
   "mimetype": "text/x-python",
   "name": "python",
   "nbconvert_exporter": "python",
   "pygments_lexer": "ipython3",
   "version": "3.11.5"
  }
 },
 "nbformat": 4,
 "nbformat_minor": 5
}

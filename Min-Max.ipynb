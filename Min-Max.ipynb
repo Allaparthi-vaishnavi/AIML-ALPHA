{
 "cells": [
  {
   "cell_type": "code",
   "execution_count": 1,
   "id": "10935597",
   "metadata": {},
   "outputs": [
    {
     "name": "stdout",
     "output_type": "stream",
     "text": [
      "[0.0, 0.25, 0.5, 0.75, 1.0]\n"
     ]
    }
   ],
   "source": [
    "def min_max_scale(lst):\n",
    "    if len(lst) == 0:\n",
    "        return []\n",
    "    min_value = min(lst)\n",
    "    max_value = max(lst)\n",
    "    scaled_lst = [(x - min_value) / (max_value - min_value) for x in lst]\n",
    "    return scaled_lst\n",
    "input_list = [10, 20, 30, 40, 50]\n",
    "scaled_result = min_max_scale(input_list)\n",
    "print(scaled_result)"
   ]
  },
  {
   "cell_type": "code",
   "execution_count": null,
   "id": "57631d19",
   "metadata": {},
   "outputs": [],
   "source": []
  }
 ],
 "metadata": {
  "kernelspec": {
   "display_name": "Python 3 (ipykernel)",
   "language": "python",
   "name": "python3"
  },
  "language_info": {
   "codemirror_mode": {
    "name": "ipython",
    "version": 3
   },
   "file_extension": ".py",
   "mimetype": "text/x-python",
   "name": "python",
   "nbconvert_exporter": "python",
   "pygments_lexer": "ipython3",
   "version": "3.11.5"
  }
 },
 "nbformat": 4,
 "nbformat_minor": 5
}

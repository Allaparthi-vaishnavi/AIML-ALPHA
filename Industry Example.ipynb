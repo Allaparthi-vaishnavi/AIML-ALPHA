{
 "cells": [
  {
   "cell_type": "markdown",
   "id": "1d032fc9",
   "metadata": {},
   "source": [
    "#Example 1.Read a long text in to string that contains some punctuation marks also. \n",
    "2.Convert to lower case. \n",
    "3.Remove punctuation marks. \n",
    "4.Split it in to words using split() sunction. \n",
    "5.Make a dictionary with each unique word as the key and its value being the number of occurrences. 6.Convert the dict to dataframe and print it."
   ]
  },
  {
   "cell_type": "code",
   "execution_count": 1,
   "id": "196daa29",
   "metadata": {},
   "outputs": [
    {
     "name": "stdout",
     "output_type": "stream",
     "text": [
      "Wildfires are ripping across parts of Los Angeles, leading to at least 11 deaths, burning down hundreds of buildings, and prompting evacuation orders for tens of thousands across the county.\n",
      "\n",
      "Despite the efforts of thousands of firefighters, the biggest blazes remain mostly uncontained.\n",
      "\n",
      "Weather conditions and the underlying impact of climate change are expected to continue fanning the flames for days to come, and there is intense scrutiny of officials' preparedness for the disaster.\n",
      "\n",
      "Authorities say they expect the death toll will increase.\n",
      "\n",
      "\n"
     ]
    }
   ],
   "source": [
    "import pandas as pd\n",
    "import string\n",
    "\n",
    "#step 1: Read a long text into a string\n",
    "text = \"\"\"Wildfires are ripping across parts of Los Angeles, leading to at least 11 deaths, burning down hundreds of buildings, and prompting evacuation orders for tens of thousands across the county.\n",
    "\n",
    "Despite the efforts of thousands of firefighters, the biggest blazes remain mostly uncontained.\n",
    "\n",
    "Weather conditions and the underlying impact of climate change are expected to continue fanning the flames for days to come, and there is intense scrutiny of officials' preparedness for the disaster.\n",
    "\n",
    "Authorities say they expect the death toll will increase.\n",
    "\n",
    "\"\"\"\n",
    "print(text)"
   ]
  },
  {
   "cell_type": "code",
   "execution_count": 2,
   "id": "f4b930ea",
   "metadata": {},
   "outputs": [
    {
     "data": {
      "text/plain": [
       "\"wildfires are ripping across parts of los angeles, leading to at least 11 deaths, burning down hundreds of buildings, and prompting evacuation orders for tens of thousands across the county.\\n\\ndespite the efforts of thousands of firefighters, the biggest blazes remain mostly uncontained.\\n\\nweather conditions and the underlying impact of climate change are expected to continue fanning the flames for days to come, and there is intense scrutiny of officials' preparedness for the disaster.\\n\\nauthorities say they expect the death toll will increase.\\n\\n\""
      ]
     },
     "execution_count": 2,
     "metadata": {},
     "output_type": "execute_result"
    }
   ],
   "source": [
    "#step 2: Convert the text to Lowercase\n",
    "text=text.lower()\n",
    "text"
   ]
  },
  {
   "cell_type": "code",
   "execution_count": 3,
   "id": "9ca2fbb3",
   "metadata": {},
   "outputs": [
    {
     "data": {
      "text/plain": [
       "'wildfires are ripping across parts of los angeles leading to at least 11 deaths burning down hundreds of buildings and prompting evacuation orders for tens of thousands across the county\\n\\ndespite the efforts of thousands of firefighters the biggest blazes remain mostly uncontained\\n\\nweather conditions and the underlying impact of climate change are expected to continue fanning the flames for days to come and there is intense scrutiny of officials preparedness for the disaster\\n\\nauthorities say they expect the death toll will increase\\n\\n'"
      ]
     },
     "execution_count": 3,
     "metadata": {},
     "output_type": "execute_result"
    }
   ],
   "source": [
    "#step 3: Remove punctuation marks using string libray.\n",
    "text=text.translate(str.maketrans(\"\", \"\", string.punctuation))\n",
    "text"
   ]
  },
  {
   "cell_type": "code",
   "execution_count": 4,
   "id": "72e71c28",
   "metadata": {},
   "outputs": [
    {
     "data": {
      "text/plain": [
       "['wildfires',\n",
       " 'are',\n",
       " 'ripping',\n",
       " 'across',\n",
       " 'parts',\n",
       " 'of',\n",
       " 'los',\n",
       " 'angeles',\n",
       " 'leading',\n",
       " 'to',\n",
       " 'at',\n",
       " 'least',\n",
       " '11',\n",
       " 'deaths',\n",
       " 'burning',\n",
       " 'down',\n",
       " 'hundreds',\n",
       " 'of',\n",
       " 'buildings',\n",
       " 'and',\n",
       " 'prompting',\n",
       " 'evacuation',\n",
       " 'orders',\n",
       " 'for',\n",
       " 'tens',\n",
       " 'of',\n",
       " 'thousands',\n",
       " 'across',\n",
       " 'the',\n",
       " 'county',\n",
       " 'despite',\n",
       " 'the',\n",
       " 'efforts',\n",
       " 'of',\n",
       " 'thousands',\n",
       " 'of',\n",
       " 'firefighters',\n",
       " 'the',\n",
       " 'biggest',\n",
       " 'blazes',\n",
       " 'remain',\n",
       " 'mostly',\n",
       " 'uncontained',\n",
       " 'weather',\n",
       " 'conditions',\n",
       " 'and',\n",
       " 'the',\n",
       " 'underlying',\n",
       " 'impact',\n",
       " 'of',\n",
       " 'climate',\n",
       " 'change',\n",
       " 'are',\n",
       " 'expected',\n",
       " 'to',\n",
       " 'continue',\n",
       " 'fanning',\n",
       " 'the',\n",
       " 'flames',\n",
       " 'for',\n",
       " 'days',\n",
       " 'to',\n",
       " 'come',\n",
       " 'and',\n",
       " 'there',\n",
       " 'is',\n",
       " 'intense',\n",
       " 'scrutiny',\n",
       " 'of',\n",
       " 'officials',\n",
       " 'preparedness',\n",
       " 'for',\n",
       " 'the',\n",
       " 'disaster',\n",
       " 'authorities',\n",
       " 'say',\n",
       " 'they',\n",
       " 'expect',\n",
       " 'the',\n",
       " 'death',\n",
       " 'toll',\n",
       " 'will',\n",
       " 'increase']"
      ]
     },
     "execution_count": 4,
     "metadata": {},
     "output_type": "execute_result"
    }
   ],
   "source": [
    "#step 4:Split the text into words\n",
    "words=text.split()\n",
    "words"
   ]
  },
  {
   "cell_type": "code",
   "execution_count": 6,
   "id": "aa1815c7",
   "metadata": {},
   "outputs": [
    {
     "data": {
      "text/plain": [
       "{'wildfires': 1,\n",
       " 'are': 2,\n",
       " 'ripping': 1,\n",
       " 'across': 2,\n",
       " 'parts': 1,\n",
       " 'of': 7,\n",
       " 'los': 1,\n",
       " 'angeles': 1,\n",
       " 'leading': 1,\n",
       " 'to': 3,\n",
       " 'at': 1,\n",
       " 'least': 1,\n",
       " '11': 1,\n",
       " 'deaths': 1,\n",
       " 'burning': 1,\n",
       " 'down': 1,\n",
       " 'hundreds': 1,\n",
       " 'buildings': 1,\n",
       " 'and': 3,\n",
       " 'prompting': 1,\n",
       " 'evacuation': 1,\n",
       " 'orders': 1,\n",
       " 'for': 3,\n",
       " 'tens': 1,\n",
       " 'thousands': 2,\n",
       " 'the': 7,\n",
       " 'county': 1,\n",
       " 'despite': 1,\n",
       " 'efforts': 1,\n",
       " 'firefighters': 1,\n",
       " 'biggest': 1,\n",
       " 'blazes': 1,\n",
       " 'remain': 1,\n",
       " 'mostly': 1,\n",
       " 'uncontained': 1,\n",
       " 'weather': 1,\n",
       " 'conditions': 1,\n",
       " 'underlying': 1,\n",
       " 'impact': 1,\n",
       " 'climate': 1,\n",
       " 'change': 1,\n",
       " 'expected': 1,\n",
       " 'continue': 1,\n",
       " 'fanning': 1,\n",
       " 'flames': 1,\n",
       " 'days': 1,\n",
       " 'come': 1,\n",
       " 'there': 1,\n",
       " 'is': 1,\n",
       " 'intense': 1,\n",
       " 'scrutiny': 1,\n",
       " 'officials': 1,\n",
       " 'preparedness': 1,\n",
       " 'disaster': 1,\n",
       " 'authorities': 1,\n",
       " 'say': 1,\n",
       " 'they': 1,\n",
       " 'expect': 1,\n",
       " 'death': 1,\n",
       " 'toll': 1,\n",
       " 'will': 1,\n",
       " 'increase': 1}"
      ]
     },
     "execution_count": 6,
     "metadata": {},
     "output_type": "execute_result"
    }
   ],
   "source": [
    "#step 5:Create a dictionary with each unique word as the key\n",
    "word_counts={}\n",
    "for word in words:\n",
    "    word_counts[word]=word_counts.get(word, 0)+1\n",
    "word_counts"
   ]
  },
  {
   "cell_type": "code",
   "execution_count": 7,
   "id": "1d4341ff",
   "metadata": {},
   "outputs": [
    {
     "name": "stdout",
     "output_type": "stream",
     "text": [
      "         Word  Count\n",
      "0   wildfires      1\n",
      "1         are      2\n",
      "2     ripping      1\n",
      "3      across      2\n",
      "4       parts      1\n",
      "..        ...    ...\n",
      "57     expect      1\n",
      "58      death      1\n",
      "59       toll      1\n",
      "60       will      1\n",
      "61   increase      1\n",
      "\n",
      "[62 rows x 2 columns]\n"
     ]
    }
   ],
   "source": [
    "#step 6:Convert this dictionary into dataframe.\n",
    "df=pd.DataFrame(list(word_counts.items()), columns=[\"Word\", \"Count\"])\n",
    "print(df)"
   ]
  },
  {
   "cell_type": "code",
   "execution_count": null,
   "id": "325dc429",
   "metadata": {},
   "outputs": [],
   "source": []
  }
 ],
 "metadata": {
  "kernelspec": {
   "display_name": "Python 3 (ipykernel)",
   "language": "python",
   "name": "python3"
  },
  "language_info": {
   "codemirror_mode": {
    "name": "ipython",
    "version": 3
   },
   "file_extension": ".py",
   "mimetype": "text/x-python",
   "name": "python",
   "nbconvert_exporter": "python",
   "pygments_lexer": "ipython3",
   "version": "3.11.5"
  }
 },
 "nbformat": 4,
 "nbformat_minor": 5
}
